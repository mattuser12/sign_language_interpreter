{
 "cells": [
  {
   "cell_type": "code",
   "execution_count": 1,
   "id": "96c70116-e039-459e-845d-690767ebc278",
   "metadata": {},
   "outputs": [],
   "source": [
    "import sys\n",
    "sys.path.append('C:\\\\Python312\\Lib\\site-packages')\n",
    "\n",
    "import cv2\n",
    "import os\n",
    "import time\n",
    "import uuid"
   ]
  },
  {
   "cell_type": "code",
   "execution_count": 2,
   "id": "f9d6e4ee-a5da-4a09-911d-353d1a1a8415",
   "metadata": {},
   "outputs": [],
   "source": [
    "IMAGES_PATH = 'Tensorflow/workspace/images/collected_images'"
   ]
  },
  {
   "cell_type": "code",
   "execution_count": 3,
   "id": "efa9ecc1-d78d-439d-b97d-7f6bb0561e7b",
   "metadata": {},
   "outputs": [],
   "source": [
    "labels = ['hello', 'thanks', 'yes', 'no', 'iloveyou', 'thumbsup']\n",
    "number_imgs = 10"
   ]
  },
  {
   "cell_type": "code",
   "execution_count": 4,
   "id": "e93757f2-e8c2-4eac-baf4-01339d72a1bd",
   "metadata": {},
   "outputs": [
    {
     "name": "stdout",
     "output_type": "stream",
     "text": [
      "Collecting images for hello\n",
      "Collecting images for thanks\n",
      "Collecting images for yes\n",
      "Collecting images for no\n",
      "Collecting images for iloveyou\n",
      "Collecting images for thumbsup\n"
     ]
    }
   ],
   "source": [
    "for label in labels:\n",
    "    label_dir = os.path.join(IMAGES_PATH, label)\n",
    "    if not os.path.exists(label_dir):\n",
    "        os.makedirs(label_dir)\n",
    "    else:\n",
    "        # Handle case where directory already exists\n",
    "        print(f\"Directory '{label_dir}' already exists. Skipping creation.\")\n",
    "\n",
    "    cap = cv2.VideoCapture(0)\n",
    "    print('Collecting images for {}'.format(label))\n",
    "    time.sleep(2)\n",
    "\n",
    "    for imgnum in range(number_imgs):\n",
    "        ret, frame = cap.read()\n",
    "        imgname = os.path.join(label_dir, f'{label}.{uuid.uuid1()}.jpg')\n",
    "        cv2.imwrite(imgname, frame)\n",
    "        cv2.imshow('frame', frame)\n",
    "        time.sleep(2)\n",
    "\n",
    "        if cv2.waitKey(1) & 0xFF == ord('q'):\n",
    "            break\n",
    "\n",
    "    cap.release()\n",
    "\n",
    "cv2.destroyAllWindows()"
   ]
  }
 ],
 "metadata": {
  "kernelspec": {
   "display_name": "Python 3 (ipykernel)",
   "language": "python",
   "name": "python3"
  },
  "language_info": {
   "codemirror_mode": {
    "name": "ipython",
    "version": 3
   },
   "file_extension": ".py",
   "mimetype": "text/x-python",
   "name": "python",
   "nbconvert_exporter": "python",
   "pygments_lexer": "ipython3",
   "version": "3.12.1"
  }
 },
 "nbformat": 4,
 "nbformat_minor": 5
}
